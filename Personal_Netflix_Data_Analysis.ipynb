{
 "cells": [
  {
   "cell_type": "markdown",
   "id": "44874269",
   "metadata": {},
   "source": [
    "# <ins>Data Analysis on my own Netflix Data</ins>"
   ]
  },
  {
   "cell_type": "markdown",
   "id": "ebc0aa07",
   "metadata": {},
   "source": [
    "  For this project, I conducted an analysis of my personal Netflix data, focusing specifically on the \"Viewing Activity\" dataset provided by Netflix.\n",
    "\n",
    "My first step in the project was to carefully examine and clean the dataset, ensuring that it was free of any missing or irrelevant information that could compromise the accuracy and completeness of my analysis.\n",
    "\n",
    "With a clean dataset, I proceeded to explore and answer some pertinent questions, such as \"What are my top shows?\" and \"What time of the day do I watch the most?\" Using advanced data analysis techniques, I examined the data and generated visual representations of my findings using Seaborn, a powerful graphing tool. This allowed me to identify key patterns and trends within the dataset, and gain valuable insights into my personal viewing habits on the platform.\n",
    "\n",
    "This project provided an exciting opportunity to apply advanced data analysis skills to real-world data, and to gain a deeper understanding of my own behavior as a user of the popular streaming platform."
   ]
  },
  {
   "cell_type": "code",
   "execution_count": 1,
   "id": "3b65da80",
   "metadata": {},
   "outputs": [],
   "source": [
    "#dependencies\n",
    "%matplotlib inline\n",
    "import pandas as pd\n",
    "import numpy as np\n",
    "import matplotlib.pyplot as plt\n",
    "import seaborn as sns"
   ]
  },
  {
   "cell_type": "code",
   "execution_count": 2,
   "id": "cd7c7ac9",
   "metadata": {},
   "outputs": [],
   "source": [
    "#importing my netflix account data \n",
    "netflix = pd.read_csv('ViewingActivity.csv')"
   ]
  },
  {
   "cell_type": "code",
   "execution_count": 3,
   "id": "fb876944",
   "metadata": {},
   "outputs": [
    {
     "data": {
      "text/plain": [
       "(11287, 10)"
      ]
     },
     "execution_count": 3,
     "metadata": {},
     "output_type": "execute_result"
    }
   ],
   "source": [
    "#understanding the shape of the dataset\n",
    "netflix.shape"
   ]
  },
  {
   "cell_type": "code",
   "execution_count": 4,
   "id": "3ba04df2",
   "metadata": {},
   "outputs": [
    {
     "data": {
      "text/html": [
       "<div>\n",
       "<style scoped>\n",
       "    .dataframe tbody tr th:only-of-type {\n",
       "        vertical-align: middle;\n",
       "    }\n",
       "\n",
       "    .dataframe tbody tr th {\n",
       "        vertical-align: top;\n",
       "    }\n",
       "\n",
       "    .dataframe thead th {\n",
       "        text-align: right;\n",
       "    }\n",
       "</style>\n",
       "<table border=\"1\" class=\"dataframe\">\n",
       "  <thead>\n",
       "    <tr style=\"text-align: right;\">\n",
       "      <th></th>\n",
       "      <th>Profile Name</th>\n",
       "      <th>Start Time</th>\n",
       "      <th>Duration</th>\n",
       "      <th>Attributes</th>\n",
       "      <th>Title</th>\n",
       "      <th>Supplemental Video Type</th>\n",
       "      <th>Device Type</th>\n",
       "      <th>Bookmark</th>\n",
       "      <th>Latest Bookmark</th>\n",
       "      <th>Country</th>\n",
       "    </tr>\n",
       "  </thead>\n",
       "  <tbody>\n",
       "    <tr>\n",
       "      <th>0</th>\n",
       "      <td>Dennis</td>\n",
       "      <td>2023-02-19 19:02:30</td>\n",
       "      <td>00:04:29</td>\n",
       "      <td>NaN</td>\n",
       "      <td>Love, Death &amp; Robots: Volume 3: Night of the M...</td>\n",
       "      <td>NaN</td>\n",
       "      <td>Chrome PC (Cadmium)</td>\n",
       "      <td>00:05:18</td>\n",
       "      <td>00:05:18</td>\n",
       "      <td>US (United States)</td>\n",
       "    </tr>\n",
       "    <tr>\n",
       "      <th>1</th>\n",
       "      <td>Dennis</td>\n",
       "      <td>2023-01-20 05:27:25</td>\n",
       "      <td>00:06:58</td>\n",
       "      <td>NaN</td>\n",
       "      <td>Smiley: Season 1: When Alex Met Bruno (Episode 1)</td>\n",
       "      <td>NaN</td>\n",
       "      <td>Chrome PC (Cadmium)</td>\n",
       "      <td>00:07:01</td>\n",
       "      <td>00:07:01</td>\n",
       "      <td>US (United States)</td>\n",
       "    </tr>\n",
       "    <tr>\n",
       "      <th>2</th>\n",
       "      <td>Dennis</td>\n",
       "      <td>2022-12-31 03:55:34</td>\n",
       "      <td>00:02:07</td>\n",
       "      <td>NaN</td>\n",
       "      <td>Big Mouth: Season 6: The Hookup House (Episode 1)</td>\n",
       "      <td>NaN</td>\n",
       "      <td>Chrome PC (Cadmium)</td>\n",
       "      <td>00:02:17</td>\n",
       "      <td>00:02:17</td>\n",
       "      <td>US (United States)</td>\n",
       "    </tr>\n",
       "    <tr>\n",
       "      <th>3</th>\n",
       "      <td>Dennis</td>\n",
       "      <td>2022-12-26 21:34:38</td>\n",
       "      <td>02:11:18</td>\n",
       "      <td>NaN</td>\n",
       "      <td>Glass Onion: A Knives Out Mystery</td>\n",
       "      <td>NaN</td>\n",
       "      <td>Chrome PC (Cadmium)</td>\n",
       "      <td>02:12:44</td>\n",
       "      <td>02:12:44</td>\n",
       "      <td>US (United States)</td>\n",
       "    </tr>\n",
       "    <tr>\n",
       "      <th>4</th>\n",
       "      <td>Dennis</td>\n",
       "      <td>2022-12-19 04:14:22</td>\n",
       "      <td>00:00:36</td>\n",
       "      <td>NaN</td>\n",
       "      <td>Single’s Inferno: Season 2: Episode 1</td>\n",
       "      <td>NaN</td>\n",
       "      <td>Chrome PC (Cadmium)</td>\n",
       "      <td>00:00:36</td>\n",
       "      <td>00:00:36</td>\n",
       "      <td>US (United States)</td>\n",
       "    </tr>\n",
       "  </tbody>\n",
       "</table>\n",
       "</div>"
      ],
      "text/plain": [
       "  Profile Name           Start Time  Duration Attributes  \\\n",
       "0       Dennis  2023-02-19 19:02:30  00:04:29        NaN   \n",
       "1       Dennis  2023-01-20 05:27:25  00:06:58        NaN   \n",
       "2       Dennis  2022-12-31 03:55:34  00:02:07        NaN   \n",
       "3       Dennis  2022-12-26 21:34:38  02:11:18        NaN   \n",
       "4       Dennis  2022-12-19 04:14:22  00:00:36        NaN   \n",
       "\n",
       "                                               Title Supplemental Video Type  \\\n",
       "0  Love, Death & Robots: Volume 3: Night of the M...                     NaN   \n",
       "1  Smiley: Season 1: When Alex Met Bruno (Episode 1)                     NaN   \n",
       "2  Big Mouth: Season 6: The Hookup House (Episode 1)                     NaN   \n",
       "3                  Glass Onion: A Knives Out Mystery                     NaN   \n",
       "4              Single’s Inferno: Season 2: Episode 1                     NaN   \n",
       "\n",
       "           Device Type  Bookmark Latest Bookmark             Country  \n",
       "0  Chrome PC (Cadmium)  00:05:18        00:05:18  US (United States)  \n",
       "1  Chrome PC (Cadmium)  00:07:01        00:07:01  US (United States)  \n",
       "2  Chrome PC (Cadmium)  00:02:17        00:02:17  US (United States)  \n",
       "3  Chrome PC (Cadmium)  02:12:44        02:12:44  US (United States)  \n",
       "4  Chrome PC (Cadmium)  00:00:36        00:00:36  US (United States)  "
      ]
     },
     "execution_count": 4,
     "metadata": {},
     "output_type": "execute_result"
    }
   ],
   "source": [
    "#checking how the data looks\n",
    "netflix.head()"
   ]
  },
  {
   "cell_type": "code",
   "execution_count": 5,
   "id": "6d3f178c",
   "metadata": {
    "scrolled": false
   },
   "outputs": [
    {
     "data": {
      "text/html": [
       "<div>\n",
       "<style scoped>\n",
       "    .dataframe tbody tr th:only-of-type {\n",
       "        vertical-align: middle;\n",
       "    }\n",
       "\n",
       "    .dataframe tbody tr th {\n",
       "        vertical-align: top;\n",
       "    }\n",
       "\n",
       "    .dataframe thead th {\n",
       "        text-align: right;\n",
       "    }\n",
       "</style>\n",
       "<table border=\"1\" class=\"dataframe\">\n",
       "  <thead>\n",
       "    <tr style=\"text-align: right;\">\n",
       "      <th></th>\n",
       "      <th>Profile Name</th>\n",
       "      <th>Start Time</th>\n",
       "      <th>Duration</th>\n",
       "      <th>Attributes</th>\n",
       "      <th>Title</th>\n",
       "      <th>Supplemental Video Type</th>\n",
       "      <th>Device Type</th>\n",
       "      <th>Bookmark</th>\n",
       "      <th>Latest Bookmark</th>\n",
       "      <th>Country</th>\n",
       "    </tr>\n",
       "  </thead>\n",
       "  <tbody>\n",
       "    <tr>\n",
       "      <th>11282</th>\n",
       "      <td>Dennis</td>\n",
       "      <td>2013-07-18 20:13:18</td>\n",
       "      <td>00:17:24</td>\n",
       "      <td>NaN</td>\n",
       "      <td>The Walking Dead: Season 1: Days Gone Bye (Epi...</td>\n",
       "      <td>NaN</td>\n",
       "      <td>Apple iPhone 5 with CDMA</td>\n",
       "      <td>00:29:48</td>\n",
       "      <td>Not latest view</td>\n",
       "      <td>US (United States)</td>\n",
       "    </tr>\n",
       "    <tr>\n",
       "      <th>11283</th>\n",
       "      <td>Dennis</td>\n",
       "      <td>2013-07-18 19:59:50</td>\n",
       "      <td>00:12:22</td>\n",
       "      <td>NaN</td>\n",
       "      <td>The Walking Dead: Season 1: Days Gone Bye (Epi...</td>\n",
       "      <td>NaN</td>\n",
       "      <td>Apple iPhone 5 with CDMA</td>\n",
       "      <td>00:12:22</td>\n",
       "      <td>Not latest view</td>\n",
       "      <td>US (United States)</td>\n",
       "    </tr>\n",
       "    <tr>\n",
       "      <th>11284</th>\n",
       "      <td>Dennis</td>\n",
       "      <td>2013-07-18 19:59:03</td>\n",
       "      <td>00:00:11</td>\n",
       "      <td>NaN</td>\n",
       "      <td>The Walking Dead: Season 1: Days Gone Bye (Epi...</td>\n",
       "      <td>NaN</td>\n",
       "      <td>Apple iPhone 5 with CDMA</td>\n",
       "      <td>00:00:11</td>\n",
       "      <td>Not latest view</td>\n",
       "      <td>US (United States)</td>\n",
       "    </tr>\n",
       "    <tr>\n",
       "      <th>11285</th>\n",
       "      <td>Dennis</td>\n",
       "      <td>2013-07-18 03:07:39</td>\n",
       "      <td>01:48:32</td>\n",
       "      <td>NaN</td>\n",
       "      <td>White Chicks</td>\n",
       "      <td>NaN</td>\n",
       "      <td>Samsung 2013 MStar X12 Smart TV</td>\n",
       "      <td>01:49:14</td>\n",
       "      <td>Not latest view</td>\n",
       "      <td>US (United States)</td>\n",
       "    </tr>\n",
       "    <tr>\n",
       "      <th>11286</th>\n",
       "      <td>Dennis</td>\n",
       "      <td>2013-07-18 02:49:21</td>\n",
       "      <td>00:17:47</td>\n",
       "      <td>NaN</td>\n",
       "      <td>The Avengers</td>\n",
       "      <td>NaN</td>\n",
       "      <td>Samsung 2013 MStar X12 Smart TV</td>\n",
       "      <td>00:17:48</td>\n",
       "      <td>Not latest view</td>\n",
       "      <td>US (United States)</td>\n",
       "    </tr>\n",
       "  </tbody>\n",
       "</table>\n",
       "</div>"
      ],
      "text/plain": [
       "      Profile Name           Start Time  Duration Attributes  \\\n",
       "11282       Dennis  2013-07-18 20:13:18  00:17:24        NaN   \n",
       "11283       Dennis  2013-07-18 19:59:50  00:12:22        NaN   \n",
       "11284       Dennis  2013-07-18 19:59:03  00:00:11        NaN   \n",
       "11285       Dennis  2013-07-18 03:07:39  01:48:32        NaN   \n",
       "11286       Dennis  2013-07-18 02:49:21  00:17:47        NaN   \n",
       "\n",
       "                                                   Title  \\\n",
       "11282  The Walking Dead: Season 1: Days Gone Bye (Epi...   \n",
       "11283  The Walking Dead: Season 1: Days Gone Bye (Epi...   \n",
       "11284  The Walking Dead: Season 1: Days Gone Bye (Epi...   \n",
       "11285                                       White Chicks   \n",
       "11286                                       The Avengers   \n",
       "\n",
       "      Supplemental Video Type                      Device Type  Bookmark  \\\n",
       "11282                     NaN         Apple iPhone 5 with CDMA  00:29:48   \n",
       "11283                     NaN         Apple iPhone 5 with CDMA  00:12:22   \n",
       "11284                     NaN         Apple iPhone 5 with CDMA  00:00:11   \n",
       "11285                     NaN  Samsung 2013 MStar X12 Smart TV  01:49:14   \n",
       "11286                     NaN  Samsung 2013 MStar X12 Smart TV  00:17:48   \n",
       "\n",
       "       Latest Bookmark             Country  \n",
       "11282  Not latest view  US (United States)  \n",
       "11283  Not latest view  US (United States)  \n",
       "11284  Not latest view  US (United States)  \n",
       "11285  Not latest view  US (United States)  \n",
       "11286  Not latest view  US (United States)  "
      ]
     },
     "execution_count": 5,
     "metadata": {},
     "output_type": "execute_result"
    }
   ],
   "source": [
    "netflix.tail()"
   ]
  },
  {
   "cell_type": "code",
   "execution_count": 6,
   "id": "a76ad33b",
   "metadata": {
    "scrolled": true
   },
   "outputs": [
    {
     "name": "stdout",
     "output_type": "stream",
     "text": [
      "<class 'pandas.core.frame.DataFrame'>\n",
      "RangeIndex: 11287 entries, 0 to 11286\n",
      "Data columns (total 10 columns):\n",
      " #   Column                   Non-Null Count  Dtype \n",
      "---  ------                   --------------  ----- \n",
      " 0   Profile Name             11287 non-null  object\n",
      " 1   Start Time               11287 non-null  object\n",
      " 2   Duration                 11287 non-null  object\n",
      " 3   Attributes               1917 non-null   object\n",
      " 4   Title                    11287 non-null  object\n",
      " 5   Supplemental Video Type  1 non-null      object\n",
      " 6   Device Type              11287 non-null  object\n",
      " 7   Bookmark                 11287 non-null  object\n",
      " 8   Latest Bookmark          11287 non-null  object\n",
      " 9   Country                  11287 non-null  object\n",
      "dtypes: object(10)\n",
      "memory usage: 881.9+ KB\n"
     ]
    }
   ],
   "source": [
    "#understanding what columns is present in the dataset\n",
    "netflix.info()"
   ]
  },
  {
   "cell_type": "markdown",
   "id": "261d8c81",
   "metadata": {},
   "source": [
    "# <ins>Cleaning the Data</ins>"
   ]
  },
  {
   "cell_type": "code",
   "execution_count": 7,
   "id": "daaefb1d",
   "metadata": {
    "scrolled": false
   },
   "outputs": [
    {
     "data": {
      "text/html": [
       "<div>\n",
       "<style scoped>\n",
       "    .dataframe tbody tr th:only-of-type {\n",
       "        vertical-align: middle;\n",
       "    }\n",
       "\n",
       "    .dataframe tbody tr th {\n",
       "        vertical-align: top;\n",
       "    }\n",
       "\n",
       "    .dataframe thead th {\n",
       "        text-align: right;\n",
       "    }\n",
       "</style>\n",
       "<table border=\"1\" class=\"dataframe\">\n",
       "  <thead>\n",
       "    <tr style=\"text-align: right;\">\n",
       "      <th></th>\n",
       "      <th>Start Time</th>\n",
       "      <th>Duration</th>\n",
       "      <th>Title</th>\n",
       "      <th>Device Type</th>\n",
       "      <th>Country</th>\n",
       "    </tr>\n",
       "  </thead>\n",
       "  <tbody>\n",
       "    <tr>\n",
       "      <th>0</th>\n",
       "      <td>2023-02-19 19:02:30</td>\n",
       "      <td>00:04:29</td>\n",
       "      <td>Love, Death &amp; Robots: Volume 3: Night of the M...</td>\n",
       "      <td>Chrome PC (Cadmium)</td>\n",
       "      <td>US (United States)</td>\n",
       "    </tr>\n",
       "    <tr>\n",
       "      <th>1</th>\n",
       "      <td>2023-01-20 05:27:25</td>\n",
       "      <td>00:06:58</td>\n",
       "      <td>Smiley: Season 1: When Alex Met Bruno (Episode 1)</td>\n",
       "      <td>Chrome PC (Cadmium)</td>\n",
       "      <td>US (United States)</td>\n",
       "    </tr>\n",
       "    <tr>\n",
       "      <th>2</th>\n",
       "      <td>2022-12-31 03:55:34</td>\n",
       "      <td>00:02:07</td>\n",
       "      <td>Big Mouth: Season 6: The Hookup House (Episode 1)</td>\n",
       "      <td>Chrome PC (Cadmium)</td>\n",
       "      <td>US (United States)</td>\n",
       "    </tr>\n",
       "    <tr>\n",
       "      <th>3</th>\n",
       "      <td>2022-12-26 21:34:38</td>\n",
       "      <td>02:11:18</td>\n",
       "      <td>Glass Onion: A Knives Out Mystery</td>\n",
       "      <td>Chrome PC (Cadmium)</td>\n",
       "      <td>US (United States)</td>\n",
       "    </tr>\n",
       "    <tr>\n",
       "      <th>4</th>\n",
       "      <td>2022-12-19 04:14:22</td>\n",
       "      <td>00:00:36</td>\n",
       "      <td>Single’s Inferno: Season 2: Episode 1</td>\n",
       "      <td>Chrome PC (Cadmium)</td>\n",
       "      <td>US (United States)</td>\n",
       "    </tr>\n",
       "  </tbody>\n",
       "</table>\n",
       "</div>"
      ],
      "text/plain": [
       "            Start Time  Duration  \\\n",
       "0  2023-02-19 19:02:30  00:04:29   \n",
       "1  2023-01-20 05:27:25  00:06:58   \n",
       "2  2022-12-31 03:55:34  00:02:07   \n",
       "3  2022-12-26 21:34:38  02:11:18   \n",
       "4  2022-12-19 04:14:22  00:00:36   \n",
       "\n",
       "                                               Title          Device Type  \\\n",
       "0  Love, Death & Robots: Volume 3: Night of the M...  Chrome PC (Cadmium)   \n",
       "1  Smiley: Season 1: When Alex Met Bruno (Episode 1)  Chrome PC (Cadmium)   \n",
       "2  Big Mouth: Season 6: The Hookup House (Episode 1)  Chrome PC (Cadmium)   \n",
       "3                  Glass Onion: A Knives Out Mystery  Chrome PC (Cadmium)   \n",
       "4              Single’s Inferno: Season 2: Episode 1  Chrome PC (Cadmium)   \n",
       "\n",
       "              Country  \n",
       "0  US (United States)  \n",
       "1  US (United States)  \n",
       "2  US (United States)  \n",
       "3  US (United States)  \n",
       "4  US (United States)  "
      ]
     },
     "execution_count": 7,
     "metadata": {},
     "output_type": "execute_result"
    }
   ],
   "source": [
    "#start cleaning the data by removing unnessary columns\n",
    "netflix = netflix.drop(['Profile Name', 'Attributes','Supplemental Video Type','Bookmark','Latest Bookmark'], axis=1)\n",
    "netflix.head()"
   ]
  },
  {
   "cell_type": "code",
   "execution_count": 8,
   "id": "f2990c56",
   "metadata": {
    "scrolled": true
   },
   "outputs": [
    {
     "data": {
      "text/plain": [
       "Start Time     0\n",
       "Duration       0\n",
       "Title          0\n",
       "Device Type    0\n",
       "Country        0\n",
       "dtype: int64"
      ]
     },
     "execution_count": 8,
     "metadata": {},
     "output_type": "execute_result"
    }
   ],
   "source": [
    "#checking if any data is missing\n",
    "netflix.isnull().sum()"
   ]
  },
  {
   "cell_type": "code",
   "execution_count": 9,
   "id": "4b15b047",
   "metadata": {},
   "outputs": [
    {
     "data": {
      "text/plain": [
       "0"
      ]
     },
     "execution_count": 9,
     "metadata": {},
     "output_type": "execute_result"
    }
   ],
   "source": [
    "#checking if any data are duplicates\n",
    "netflix.duplicated().sum()"
   ]
  },
  {
   "cell_type": "code",
   "execution_count": 10,
   "id": "f3f55f34",
   "metadata": {},
   "outputs": [
    {
     "data": {
      "text/plain": [
       "Start Time     datetime64[ns, UTC]\n",
       "Duration                    object\n",
       "Title                       object\n",
       "Device Type                 object\n",
       "Country                     object\n",
       "dtype: object"
      ]
     },
     "execution_count": 10,
     "metadata": {},
     "output_type": "execute_result"
    }
   ],
   "source": [
    "#START TIME is an object and we dont want that for caluculations so im going to change into datetime\n",
    "netflix['Start Time'] = pd.to_datetime(netflix['Start Time'], utc=True)\n",
    "netflix.dtypes"
   ]
  },
  {
   "cell_type": "code",
   "execution_count": 11,
   "id": "8fb08375",
   "metadata": {},
   "outputs": [
    {
     "data": {
      "text/html": [
       "<div>\n",
       "<style scoped>\n",
       "    .dataframe tbody tr th:only-of-type {\n",
       "        vertical-align: middle;\n",
       "    }\n",
       "\n",
       "    .dataframe tbody tr th {\n",
       "        vertical-align: top;\n",
       "    }\n",
       "\n",
       "    .dataframe thead th {\n",
       "        text-align: right;\n",
       "    }\n",
       "</style>\n",
       "<table border=\"1\" class=\"dataframe\">\n",
       "  <thead>\n",
       "    <tr style=\"text-align: right;\">\n",
       "      <th></th>\n",
       "      <th>Start Time</th>\n",
       "      <th>Duration</th>\n",
       "      <th>Title</th>\n",
       "      <th>Device Type</th>\n",
       "      <th>Country</th>\n",
       "    </tr>\n",
       "  </thead>\n",
       "  <tbody>\n",
       "    <tr>\n",
       "      <th>0</th>\n",
       "      <td>2023-02-19 11:02:30-08:00</td>\n",
       "      <td>00:04:29</td>\n",
       "      <td>Love, Death &amp; Robots: Volume 3: Night of the M...</td>\n",
       "      <td>Chrome PC (Cadmium)</td>\n",
       "      <td>US (United States)</td>\n",
       "    </tr>\n",
       "    <tr>\n",
       "      <th>1</th>\n",
       "      <td>2023-01-19 21:27:25-08:00</td>\n",
       "      <td>00:06:58</td>\n",
       "      <td>Smiley: Season 1: When Alex Met Bruno (Episode 1)</td>\n",
       "      <td>Chrome PC (Cadmium)</td>\n",
       "      <td>US (United States)</td>\n",
       "    </tr>\n",
       "    <tr>\n",
       "      <th>2</th>\n",
       "      <td>2022-12-30 19:55:34-08:00</td>\n",
       "      <td>00:02:07</td>\n",
       "      <td>Big Mouth: Season 6: The Hookup House (Episode 1)</td>\n",
       "      <td>Chrome PC (Cadmium)</td>\n",
       "      <td>US (United States)</td>\n",
       "    </tr>\n",
       "  </tbody>\n",
       "</table>\n",
       "</div>"
      ],
      "text/plain": [
       "                 Start Time  Duration  \\\n",
       "0 2023-02-19 11:02:30-08:00  00:04:29   \n",
       "1 2023-01-19 21:27:25-08:00  00:06:58   \n",
       "2 2022-12-30 19:55:34-08:00  00:02:07   \n",
       "\n",
       "                                               Title          Device Type  \\\n",
       "0  Love, Death & Robots: Volume 3: Night of the M...  Chrome PC (Cadmium)   \n",
       "1  Smiley: Season 1: When Alex Met Bruno (Episode 1)  Chrome PC (Cadmium)   \n",
       "2  Big Mouth: Season 6: The Hookup House (Episode 1)  Chrome PC (Cadmium)   \n",
       "\n",
       "              Country  \n",
       "0  US (United States)  \n",
       "1  US (United States)  \n",
       "2  US (United States)  "
      ]
     },
     "execution_count": 11,
     "metadata": {},
     "output_type": "execute_result"
    }
   ],
   "source": [
    "# first im going change the START TIME column into the data's index\n",
    "netflix = netflix.set_index('Start Time')\n",
    "# then im going to convert from UTC timezone to pacific time because that's where im from\n",
    "netflix.index = netflix.index.tz_convert('US/Pacific')\n",
    "#lastly im going to reset the index so that START TIME becomes a column again\n",
    "netflix = netflix.reset_index()\n",
    "#check if it worked\n",
    "netflix.head(3)"
   ]
  },
  {
   "cell_type": "code",
   "execution_count": 12,
   "id": "f35d79c2",
   "metadata": {},
   "outputs": [
    {
     "data": {
      "text/html": [
       "<div>\n",
       "<style scoped>\n",
       "    .dataframe tbody tr th:only-of-type {\n",
       "        vertical-align: middle;\n",
       "    }\n",
       "\n",
       "    .dataframe tbody tr th {\n",
       "        vertical-align: top;\n",
       "    }\n",
       "\n",
       "    .dataframe thead th {\n",
       "        text-align: right;\n",
       "    }\n",
       "</style>\n",
       "<table border=\"1\" class=\"dataframe\">\n",
       "  <thead>\n",
       "    <tr style=\"text-align: right;\">\n",
       "      <th></th>\n",
       "      <th>Start Time</th>\n",
       "      <th>Duration</th>\n",
       "      <th>Title</th>\n",
       "      <th>Device Type</th>\n",
       "      <th>Country</th>\n",
       "    </tr>\n",
       "  </thead>\n",
       "  <tbody>\n",
       "    <tr>\n",
       "      <th>0</th>\n",
       "      <td>2023-02-19 11:02:30-08:00</td>\n",
       "      <td>0 days 00:04:29</td>\n",
       "      <td>Love, Death &amp; Robots: Volume 3: Night of the M...</td>\n",
       "      <td>Chrome PC (Cadmium)</td>\n",
       "      <td>US (United States)</td>\n",
       "    </tr>\n",
       "    <tr>\n",
       "      <th>1</th>\n",
       "      <td>2023-01-19 21:27:25-08:00</td>\n",
       "      <td>0 days 00:06:58</td>\n",
       "      <td>Smiley: Season 1: When Alex Met Bruno (Episode 1)</td>\n",
       "      <td>Chrome PC (Cadmium)</td>\n",
       "      <td>US (United States)</td>\n",
       "    </tr>\n",
       "    <tr>\n",
       "      <th>2</th>\n",
       "      <td>2022-12-30 19:55:34-08:00</td>\n",
       "      <td>0 days 00:02:07</td>\n",
       "      <td>Big Mouth: Season 6: The Hookup House (Episode 1)</td>\n",
       "      <td>Chrome PC (Cadmium)</td>\n",
       "      <td>US (United States)</td>\n",
       "    </tr>\n",
       "    <tr>\n",
       "      <th>3</th>\n",
       "      <td>2022-12-26 13:34:38-08:00</td>\n",
       "      <td>0 days 02:11:18</td>\n",
       "      <td>Glass Onion: A Knives Out Mystery</td>\n",
       "      <td>Chrome PC (Cadmium)</td>\n",
       "      <td>US (United States)</td>\n",
       "    </tr>\n",
       "    <tr>\n",
       "      <th>4</th>\n",
       "      <td>2022-12-18 20:14:22-08:00</td>\n",
       "      <td>0 days 00:00:36</td>\n",
       "      <td>Single’s Inferno: Season 2: Episode 1</td>\n",
       "      <td>Chrome PC (Cadmium)</td>\n",
       "      <td>US (United States)</td>\n",
       "    </tr>\n",
       "    <tr>\n",
       "      <th>5</th>\n",
       "      <td>2022-11-30 19:35:10-08:00</td>\n",
       "      <td>0 days 00:25:48</td>\n",
       "      <td>Wednesday: Season 1: Wednesday's Child Is Full...</td>\n",
       "      <td>Chrome PC (Cadmium)</td>\n",
       "      <td>US (United States)</td>\n",
       "    </tr>\n",
       "  </tbody>\n",
       "</table>\n",
       "</div>"
      ],
      "text/plain": [
       "                 Start Time        Duration  \\\n",
       "0 2023-02-19 11:02:30-08:00 0 days 00:04:29   \n",
       "1 2023-01-19 21:27:25-08:00 0 days 00:06:58   \n",
       "2 2022-12-30 19:55:34-08:00 0 days 00:02:07   \n",
       "3 2022-12-26 13:34:38-08:00 0 days 02:11:18   \n",
       "4 2022-12-18 20:14:22-08:00 0 days 00:00:36   \n",
       "5 2022-11-30 19:35:10-08:00 0 days 00:25:48   \n",
       "\n",
       "                                               Title          Device Type  \\\n",
       "0  Love, Death & Robots: Volume 3: Night of the M...  Chrome PC (Cadmium)   \n",
       "1  Smiley: Season 1: When Alex Met Bruno (Episode 1)  Chrome PC (Cadmium)   \n",
       "2  Big Mouth: Season 6: The Hookup House (Episode 1)  Chrome PC (Cadmium)   \n",
       "3                  Glass Onion: A Knives Out Mystery  Chrome PC (Cadmium)   \n",
       "4              Single’s Inferno: Season 2: Episode 1  Chrome PC (Cadmium)   \n",
       "5  Wednesday: Season 1: Wednesday's Child Is Full...  Chrome PC (Cadmium)   \n",
       "\n",
       "              Country  \n",
       "0  US (United States)  \n",
       "1  US (United States)  \n",
       "2  US (United States)  \n",
       "3  US (United States)  \n",
       "4  US (United States)  \n",
       "5  US (United States)  "
      ]
     },
     "execution_count": 12,
     "metadata": {},
     "output_type": "execute_result"
    }
   ],
   "source": [
    "#DURATION is also an object so im going to change it timedelta for calculations\n",
    "netflix['Duration'] = pd.to_timedelta(netflix['Duration'])\n",
    "netflix.dtypes\n",
    "netflix.head(6)"
   ]
  },
  {
   "cell_type": "code",
   "execution_count": 13,
   "id": "e13b270f",
   "metadata": {
    "scrolled": false
   },
   "outputs": [
    {
     "data": {
      "text/html": [
       "<div>\n",
       "<style scoped>\n",
       "    .dataframe tbody tr th:only-of-type {\n",
       "        vertical-align: middle;\n",
       "    }\n",
       "\n",
       "    .dataframe tbody tr th {\n",
       "        vertical-align: top;\n",
       "    }\n",
       "\n",
       "    .dataframe thead th {\n",
       "        text-align: right;\n",
       "    }\n",
       "</style>\n",
       "<table border=\"1\" class=\"dataframe\">\n",
       "  <thead>\n",
       "    <tr style=\"text-align: right;\">\n",
       "      <th></th>\n",
       "      <th>Start Time</th>\n",
       "      <th>Duration</th>\n",
       "      <th>Title</th>\n",
       "      <th>Device Type</th>\n",
       "      <th>Country</th>\n",
       "    </tr>\n",
       "  </thead>\n",
       "  <tbody>\n",
       "    <tr>\n",
       "      <th>0</th>\n",
       "      <td>2023-02-19 11:02:30-08:00</td>\n",
       "      <td>0 days 00:04:29</td>\n",
       "      <td>Love, Death &amp; Robots</td>\n",
       "      <td>Chrome PC (Cadmium)</td>\n",
       "      <td>US (United States)</td>\n",
       "    </tr>\n",
       "    <tr>\n",
       "      <th>1</th>\n",
       "      <td>2023-01-19 21:27:25-08:00</td>\n",
       "      <td>0 days 00:06:58</td>\n",
       "      <td>Smiley</td>\n",
       "      <td>Chrome PC (Cadmium)</td>\n",
       "      <td>US (United States)</td>\n",
       "    </tr>\n",
       "    <tr>\n",
       "      <th>2</th>\n",
       "      <td>2022-12-30 19:55:34-08:00</td>\n",
       "      <td>0 days 00:02:07</td>\n",
       "      <td>Big Mouth</td>\n",
       "      <td>Chrome PC (Cadmium)</td>\n",
       "      <td>US (United States)</td>\n",
       "    </tr>\n",
       "    <tr>\n",
       "      <th>3</th>\n",
       "      <td>2022-12-26 13:34:38-08:00</td>\n",
       "      <td>0 days 02:11:18</td>\n",
       "      <td>Glass Onion</td>\n",
       "      <td>Chrome PC (Cadmium)</td>\n",
       "      <td>US (United States)</td>\n",
       "    </tr>\n",
       "    <tr>\n",
       "      <th>4</th>\n",
       "      <td>2022-12-18 20:14:22-08:00</td>\n",
       "      <td>0 days 00:00:36</td>\n",
       "      <td>Single’s Inferno</td>\n",
       "      <td>Chrome PC (Cadmium)</td>\n",
       "      <td>US (United States)</td>\n",
       "    </tr>\n",
       "    <tr>\n",
       "      <th>5</th>\n",
       "      <td>2022-11-30 19:35:10-08:00</td>\n",
       "      <td>0 days 00:25:48</td>\n",
       "      <td>Wednesday</td>\n",
       "      <td>Chrome PC (Cadmium)</td>\n",
       "      <td>US (United States)</td>\n",
       "    </tr>\n",
       "  </tbody>\n",
       "</table>\n",
       "</div>"
      ],
      "text/plain": [
       "                 Start Time        Duration                 Title  \\\n",
       "0 2023-02-19 11:02:30-08:00 0 days 00:04:29  Love, Death & Robots   \n",
       "1 2023-01-19 21:27:25-08:00 0 days 00:06:58                Smiley   \n",
       "2 2022-12-30 19:55:34-08:00 0 days 00:02:07             Big Mouth   \n",
       "3 2022-12-26 13:34:38-08:00 0 days 02:11:18           Glass Onion   \n",
       "4 2022-12-18 20:14:22-08:00 0 days 00:00:36      Single’s Inferno   \n",
       "5 2022-11-30 19:35:10-08:00 0 days 00:25:48             Wednesday   \n",
       "\n",
       "           Device Type             Country  \n",
       "0  Chrome PC (Cadmium)  US (United States)  \n",
       "1  Chrome PC (Cadmium)  US (United States)  \n",
       "2  Chrome PC (Cadmium)  US (United States)  \n",
       "3  Chrome PC (Cadmium)  US (United States)  \n",
       "4  Chrome PC (Cadmium)  US (United States)  \n",
       "5  Chrome PC (Cadmium)  US (United States)  "
      ]
     },
     "execution_count": 13,
     "metadata": {},
     "output_type": "execute_result"
    }
   ],
   "source": [
    "#TITLE includes Season X: Episode Y and i dont need that for my calculations today so im going to get rid of them \n",
    "netflix['Title'] = netflix['Title'].str.split(':').str[0]\n",
    "netflix.head(6)"
   ]
  },
  {
   "cell_type": "code",
   "execution_count": 14,
   "id": "213bd5f1",
   "metadata": {
    "scrolled": true
   },
   "outputs": [
    {
     "data": {
      "text/html": [
       "<div>\n",
       "<style scoped>\n",
       "    .dataframe tbody tr th:only-of-type {\n",
       "        vertical-align: middle;\n",
       "    }\n",
       "\n",
       "    .dataframe tbody tr th {\n",
       "        vertical-align: top;\n",
       "    }\n",
       "\n",
       "    .dataframe thead th {\n",
       "        text-align: right;\n",
       "    }\n",
       "</style>\n",
       "<table border=\"1\" class=\"dataframe\">\n",
       "  <thead>\n",
       "    <tr style=\"text-align: right;\">\n",
       "      <th></th>\n",
       "      <th>Start Time</th>\n",
       "      <th>Duration</th>\n",
       "      <th>Title</th>\n",
       "      <th>Device Type</th>\n",
       "      <th>Country</th>\n",
       "      <th>weekday</th>\n",
       "      <th>hour</th>\n",
       "    </tr>\n",
       "  </thead>\n",
       "  <tbody>\n",
       "    <tr>\n",
       "      <th>0</th>\n",
       "      <td>2023-02-19 11:02:30-08:00</td>\n",
       "      <td>0 days 00:04:29</td>\n",
       "      <td>Love, Death &amp; Robots</td>\n",
       "      <td>Chrome PC (Cadmium)</td>\n",
       "      <td>US (United States)</td>\n",
       "      <td>6</td>\n",
       "      <td>11</td>\n",
       "    </tr>\n",
       "    <tr>\n",
       "      <th>1</th>\n",
       "      <td>2023-01-19 21:27:25-08:00</td>\n",
       "      <td>0 days 00:06:58</td>\n",
       "      <td>Smiley</td>\n",
       "      <td>Chrome PC (Cadmium)</td>\n",
       "      <td>US (United States)</td>\n",
       "      <td>3</td>\n",
       "      <td>21</td>\n",
       "    </tr>\n",
       "    <tr>\n",
       "      <th>2</th>\n",
       "      <td>2022-12-30 19:55:34-08:00</td>\n",
       "      <td>0 days 00:02:07</td>\n",
       "      <td>Big Mouth</td>\n",
       "      <td>Chrome PC (Cadmium)</td>\n",
       "      <td>US (United States)</td>\n",
       "      <td>4</td>\n",
       "      <td>19</td>\n",
       "    </tr>\n",
       "  </tbody>\n",
       "</table>\n",
       "</div>"
      ],
      "text/plain": [
       "                 Start Time        Duration                 Title  \\\n",
       "0 2023-02-19 11:02:30-08:00 0 days 00:04:29  Love, Death & Robots   \n",
       "1 2023-01-19 21:27:25-08:00 0 days 00:06:58                Smiley   \n",
       "2 2022-12-30 19:55:34-08:00 0 days 00:02:07             Big Mouth   \n",
       "\n",
       "           Device Type             Country  weekday  hour  \n",
       "0  Chrome PC (Cadmium)  US (United States)        6    11  \n",
       "1  Chrome PC (Cadmium)  US (United States)        3    21  \n",
       "2  Chrome PC (Cadmium)  US (United States)        4    19  "
      ]
     },
     "execution_count": 14,
     "metadata": {},
     "output_type": "execute_result"
    }
   ],
   "source": [
    "#Im adding weekday and hour to my data\n",
    "netflix['weekday'] = netflix['Start Time'].dt.weekday\n",
    "netflix['hour'] = netflix['Start Time'].dt.hour\n",
    "netflix.head(3)"
   ]
  },
  {
   "cell_type": "markdown",
   "id": "eacf6632",
   "metadata": {},
   "source": [
    "# <ins>Data Analysis</ins>"
   ]
  },
  {
   "cell_type": "markdown",
   "id": "8563ab48",
   "metadata": {},
   "source": [
    "### What is the total amount of time that I have watch netflix?"
   ]
  },
  {
   "cell_type": "code",
   "execution_count": 15,
   "id": "cce7f3f1",
   "metadata": {
    "scrolled": true
   },
   "outputs": [
    {
     "data": {
      "text/plain": [
       "Timedelta('145 days 20:50:19')"
      ]
     },
     "execution_count": 15,
     "metadata": {},
     "output_type": "execute_result"
    }
   ],
   "source": [
    "netflix['Duration'].sum()"
   ]
  },
  {
   "cell_type": "markdown",
   "id": "d3ca2971",
   "metadata": {},
   "source": [
    "I have spent almost **146 DAYS** of my life watching Netflix. "
   ]
  },
  {
   "cell_type": "markdown",
   "id": "dfeb6c1d",
   "metadata": {},
   "source": [
    "### What Days do I watch Netflix the most and least?"
   ]
  },
  {
   "cell_type": "code",
   "execution_count": 16,
   "id": "976ffa63",
   "metadata": {},
   "outputs": [],
   "source": [
    "#Making a new df to calculate how many times i have clicked on a specific on a day\n",
    "netflix['weekday'] = pd.Categorical(netflix['weekday'], categories=\n",
    "    [0,1,2,3,4,5,6],\n",
    "    ordered=True)\n",
    "value_counts_day = netflix['weekday'].value_counts()\n",
    "value_counts_day = value_counts_day.sort_index()\n",
    "netflix_day = pd.DataFrame(value_counts_day)\n",
    "# netflix_day = netflix_day.set_index(\"Days\", inplace=True)\n",
    "netflix_day.columns = ['Amount']\n",
    "netflix_day.index = netflix_day.index.rename_categories(['Monday','Tuesday','Wednesday','Thrusday',\n",
    "                                                         'Friday','Saturday','Sunday'])"
   ]
  },
  {
   "cell_type": "code",
   "execution_count": 17,
   "id": "e35b5d75",
   "metadata": {},
   "outputs": [
    {
     "data": {
      "image/png": "[encoded data removed]",
      "text/plain": [
       "<Figure size 640x480 with 1 Axes>"
      ]
     },
     "metadata": {},
     "output_type": "display_data"
    }
   ],
   "source": [
    "#Making a bar graph for the df netflix_day on the amount of times i have clicked onb each day\n",
    "daygraph = sns.barplot(data=netflix_day, x=netflix_day.index, y=netflix_day.Amount, palette = 'coolwarm')\n",
    "#I changed the lower limit of y to 1400 because the data looked almost the same if I didnt. I wanted to show it zoomed in on it to show the differences.\n",
    "daygraph.set(ylim=(1400,1700))\n",
    "daygraph.set(xlabel='Day', ylabel='Amount')\n",
    "daygraph.set_xticklabels(netflix_day.index, rotation=20);"
   ]
  },
  {
   "cell_type": "markdown",
   "id": "a0ae1a2c",
   "metadata": {},
   "source": [
    "It looks like I watch Netflix the most on a **Tuesday** and the least on a **Wednesday**. I find that I barely watch tv on a **Friday** kind of weird eventhough the weekend is runner up on the most watched. Its possible that I go out more often on **Wednesday** and **Friday** thus the decrease in numbers but i dont have that data to back up my claim. "
   ]
  },
  {
   "cell_type": "markdown",
   "id": "44bc5ca6",
   "metadata": {},
   "source": [
    "### What Hours do I watch Netflix the most and least?"
   ]
  },
  {
   "cell_type": "code",
   "execution_count": 18,
   "id": "1f781c7e",
   "metadata": {},
   "outputs": [],
   "source": [
    "#Making a new df to calculate how many times i have clicked on a specific hour of the day\n",
    "netflix['hour'] = pd.Categorical(netflix['hour'],categories=\n",
    "    [0,1,2,3,4,5,6,7,8,9,10,11,12,13,14,15,16,17,18,19,20,21,22,23],\n",
    "    ordered=True)\n",
    "value_counts_hour = netflix['hour'].value_counts()\n",
    "value_counts_hour = value_counts_hour.sort_index()\n",
    "netflix_hour = pd.DataFrame(value_counts_hour)\n",
    "netflix_hour.columns = ['Amount']\n",
    "netflix_hour.index = netflix_hour.index.rename_categories(['12 am','1 am','2 am','3 am',\n",
    "'4 am','5 am','6 am','7 am','8 am','9 am','10 am','11 am','12 pm','1 pm','2 pm','3 pm',\n",
    "'4 pm','5 pm','6 pm','7 pm','8 pm','9 pm','10 pm','11 pm',])"
   ]
  },
  {
   "cell_type": "code",
   "execution_count": 19,
   "id": "400fb903",
   "metadata": {
    "scrolled": false
   },
   "outputs": [
    {
     "data": {
      "image/png": "[encoded data removed]",
      "text/plain": [
       "<Figure size 640x480 with 1 Axes>"
      ]
     },
     "metadata": {},
     "output_type": "display_data"
    }
   ],
   "source": [
    "#Making a bar graph for the df netflix_day on the amount of times i have clicked on each hour\n",
    "hourgraph = sns.barplot(data=netflix_hour, x=netflix_hour.index, y=netflix_hour.Amount, palette = 'coolwarm')\n",
    "hourgraph.set(xlabel='Hour', ylabel='Amount')\n",
    "hourgraph.set_xticklabels(netflix_hour.index, rotation=55);"
   ]
  },
  {
   "cell_type": "markdown",
   "id": "e979e1c3",
   "metadata": {},
   "source": [
    "The most watched hour is at **3pm** and the runner up is at **8pm**. This makes sense because during these times, I eat lunch and dinner. I do enjoy watching shows or movies while I eat if I eat at home. **5am** being my least watched hour makes sense because that when in my REM of my sleep cycle. "
   ]
  },
  {
   "cell_type": "markdown",
   "id": "ffd64cba",
   "metadata": {},
   "source": [
    "### What are my top 10 shows that I have viewed on Netflix?"
   ]
  },
  {
   "cell_type": "code",
   "execution_count": 20,
   "id": "341eb662",
   "metadata": {
    "scrolled": true
   },
   "outputs": [
    {
     "data": {
      "text/html": [
       "<div>\n",
       "<style scoped>\n",
       "    .dataframe tbody tr th:only-of-type {\n",
       "        vertical-align: middle;\n",
       "    }\n",
       "\n",
       "    .dataframe tbody tr th {\n",
       "        vertical-align: top;\n",
       "    }\n",
       "\n",
       "    .dataframe thead th {\n",
       "        text-align: right;\n",
       "    }\n",
       "</style>\n",
       "<table border=\"1\" class=\"dataframe\">\n",
       "  <thead>\n",
       "    <tr style=\"text-align: right;\">\n",
       "      <th></th>\n",
       "      <th>Duration</th>\n",
       "    </tr>\n",
       "    <tr>\n",
       "      <th>Title</th>\n",
       "      <th></th>\n",
       "    </tr>\n",
       "  </thead>\n",
       "  <tbody>\n",
       "    <tr>\n",
       "      <th>That '70s Show</th>\n",
       "      <td>12 days 20:20:12</td>\n",
       "    </tr>\n",
       "    <tr>\n",
       "      <th>Orange Is the New Black</th>\n",
       "      <td>7 days 21:43:30</td>\n",
       "    </tr>\n",
       "    <tr>\n",
       "      <th>The Office (U.S.)</th>\n",
       "      <td>7 days 12:46:10</td>\n",
       "    </tr>\n",
       "    <tr>\n",
       "      <th>Breaking Bad</th>\n",
       "      <td>7 days 07:49:14</td>\n",
       "    </tr>\n",
       "    <tr>\n",
       "      <th>Friends</th>\n",
       "      <td>4 days 03:52:41</td>\n",
       "    </tr>\n",
       "    <tr>\n",
       "      <th>Parks and Recreation</th>\n",
       "      <td>3 days 06:35:36</td>\n",
       "    </tr>\n",
       "    <tr>\n",
       "      <th>Stranger Things</th>\n",
       "      <td>3 days 03:16:04</td>\n",
       "    </tr>\n",
       "    <tr>\n",
       "      <th>How I Met Your Mother</th>\n",
       "      <td>3 days 02:21:33</td>\n",
       "    </tr>\n",
       "    <tr>\n",
       "      <th>Person of Interest</th>\n",
       "      <td>3 days 02:13:56</td>\n",
       "    </tr>\n",
       "    <tr>\n",
       "      <th>Gossip Girl</th>\n",
       "      <td>3 days 00:22:25</td>\n",
       "    </tr>\n",
       "  </tbody>\n",
       "</table>\n",
       "</div>"
      ],
      "text/plain": [
       "                                Duration\n",
       "Title                                   \n",
       "That '70s Show          12 days 20:20:12\n",
       "Orange Is the New Black  7 days 21:43:30\n",
       "The Office (U.S.)        7 days 12:46:10\n",
       "Breaking Bad             7 days 07:49:14\n",
       "Friends                  4 days 03:52:41\n",
       "Parks and Recreation     3 days 06:35:36\n",
       "Stranger Things          3 days 03:16:04\n",
       "How I Met Your Mother    3 days 02:21:33\n",
       "Person of Interest       3 days 02:13:56\n",
       "Gossip Girl              3 days 00:22:25"
      ]
     },
     "execution_count": 20,
     "metadata": {},
     "output_type": "execute_result"
    }
   ],
   "source": [
    "#New df on the most watched shows\n",
    "sum_duration = netflix.groupby(['Title'])['Duration'].sum()\n",
    "most_watched_shows = pd.DataFrame(sum_duration)\n",
    "most_watched_shows = most_watched_shows.sort_values(by=['Duration'], ascending=False)\n",
    "top_ten_watched = most_watched_shows.head(10)\n",
    "top_ten_watched"
   ]
  },
  {
   "cell_type": "code",
   "execution_count": 21,
   "id": "c9c61765",
   "metadata": {
    "scrolled": true
   },
   "outputs": [
    {
     "data": {
      "text/html": [
       "<div>\n",
       "<style scoped>\n",
       "    .dataframe tbody tr th:only-of-type {\n",
       "        vertical-align: middle;\n",
       "    }\n",
       "\n",
       "    .dataframe tbody tr th {\n",
       "        vertical-align: top;\n",
       "    }\n",
       "\n",
       "    .dataframe thead th {\n",
       "        text-align: right;\n",
       "    }\n",
       "</style>\n",
       "<table border=\"1\" class=\"dataframe\">\n",
       "  <thead>\n",
       "    <tr style=\"text-align: right;\">\n",
       "      <th></th>\n",
       "      <th>Duration</th>\n",
       "    </tr>\n",
       "    <tr>\n",
       "      <th>Title</th>\n",
       "      <th></th>\n",
       "    </tr>\n",
       "  </thead>\n",
       "  <tbody>\n",
       "    <tr>\n",
       "      <th>That '70s Show</th>\n",
       "      <td>18500.200000</td>\n",
       "    </tr>\n",
       "    <tr>\n",
       "      <th>Orange Is the New Black</th>\n",
       "      <td>11383.500000</td>\n",
       "    </tr>\n",
       "    <tr>\n",
       "      <th>The Office (U.S.)</th>\n",
       "      <td>10846.166667</td>\n",
       "    </tr>\n",
       "    <tr>\n",
       "      <th>Breaking Bad</th>\n",
       "      <td>10549.233333</td>\n",
       "    </tr>\n",
       "    <tr>\n",
       "      <th>Friends</th>\n",
       "      <td>5992.683333</td>\n",
       "    </tr>\n",
       "    <tr>\n",
       "      <th>Parks and Recreation</th>\n",
       "      <td>4715.600000</td>\n",
       "    </tr>\n",
       "    <tr>\n",
       "      <th>Stranger Things</th>\n",
       "      <td>4516.066667</td>\n",
       "    </tr>\n",
       "    <tr>\n",
       "      <th>How I Met Your Mother</th>\n",
       "      <td>4461.550000</td>\n",
       "    </tr>\n",
       "    <tr>\n",
       "      <th>Person of Interest</th>\n",
       "      <td>4453.933333</td>\n",
       "    </tr>\n",
       "    <tr>\n",
       "      <th>Gossip Girl</th>\n",
       "      <td>4342.416667</td>\n",
       "    </tr>\n",
       "  </tbody>\n",
       "</table>\n",
       "</div>"
      ],
      "text/plain": [
       "                             Duration\n",
       "Title                                \n",
       "That '70s Show           18500.200000\n",
       "Orange Is the New Black  11383.500000\n",
       "The Office (U.S.)        10846.166667\n",
       "Breaking Bad             10549.233333\n",
       "Friends                   5992.683333\n",
       "Parks and Recreation      4715.600000\n",
       "Stranger Things           4516.066667\n",
       "How I Met Your Mother     4461.550000\n",
       "Person of Interest        4453.933333\n",
       "Gossip Girl               4342.416667"
      ]
     },
     "execution_count": 21,
     "metadata": {},
     "output_type": "execute_result"
    }
   ],
   "source": [
    "top_ten_watched = top_ten_watched.assign(Duration = (top_ten_watched['Duration'].dt.total_seconds()/60))\n",
    "top_ten_watched"
   ]
  },
  {
   "cell_type": "code",
   "execution_count": 22,
   "id": "f688b489",
   "metadata": {
    "scrolled": true
   },
   "outputs": [
    {
     "name": "stdout",
     "output_type": "stream",
     "text": [
      "<class 'pandas.core.frame.DataFrame'>\n",
      "Index: 10 entries, That '70s Show to Gossip Girl\n",
      "Data columns (total 1 columns):\n",
      " #   Column    Non-Null Count  Dtype  \n",
      "---  ------    --------------  -----  \n",
      " 0   Duration  10 non-null     float64\n",
      "dtypes: float64(1)\n",
      "memory usage: 160.0+ bytes\n"
     ]
    }
   ],
   "source": [
    "top_ten_watched.info()"
   ]
  },
  {
   "cell_type": "code",
   "execution_count": 23,
   "id": "898738ee",
   "metadata": {
    "scrolled": false
   },
   "outputs": [
    {
     "data": {
      "image/png": "[encoded data removed]",
      "text/plain": [
       "<Figure size 640x480 with 1 Axes>"
      ]
     },
     "metadata": {},
     "output_type": "display_data"
    }
   ],
   "source": [
    "sns.set_theme(style=\"whitegrid\")\n",
    "top10watched = sns.barplot(x = top_ten_watched.Duration, y = top_ten_watched.index , data=top_ten_watched, palette='coolwarm')\n",
    "top10watched.set(title = 'Top 10 Watched Netflix Shows', ylabel = 'Shows');"
   ]
  },
  {
   "cell_type": "markdown",
   "id": "6c59c46f",
   "metadata": {},
   "source": [
    " The most watched show for me is **That 70s Show** by a far margin. The three runner ups are **Orange is the New Black**, **The Office(US)**, and **Breaking Bad**."
   ]
  },
  {
   "cell_type": "markdown",
   "id": "77efe88b",
   "metadata": {},
   "source": [
    "### What are my top 10 shows that I have clicked on Netflix?"
   ]
  },
  {
   "cell_type": "code",
   "execution_count": 24,
   "id": "7ecfba0a",
   "metadata": {},
   "outputs": [
    {
     "data": {
      "text/html": [
       "<div>\n",
       "<style scoped>\n",
       "    .dataframe tbody tr th:only-of-type {\n",
       "        vertical-align: middle;\n",
       "    }\n",
       "\n",
       "    .dataframe tbody tr th {\n",
       "        vertical-align: top;\n",
       "    }\n",
       "\n",
       "    .dataframe thead th {\n",
       "        text-align: right;\n",
       "    }\n",
       "</style>\n",
       "<table border=\"1\" class=\"dataframe\">\n",
       "  <thead>\n",
       "    <tr style=\"text-align: right;\">\n",
       "      <th></th>\n",
       "      <th>Clicks</th>\n",
       "    </tr>\n",
       "  </thead>\n",
       "  <tbody>\n",
       "    <tr>\n",
       "      <th>That '70s Show</th>\n",
       "      <td>1294</td>\n",
       "    </tr>\n",
       "    <tr>\n",
       "      <th>The Office (U.S.)</th>\n",
       "      <td>796</td>\n",
       "    </tr>\n",
       "    <tr>\n",
       "      <th>Friends</th>\n",
       "      <td>468</td>\n",
       "    </tr>\n",
       "    <tr>\n",
       "      <th>Orange Is the New Black</th>\n",
       "      <td>433</td>\n",
       "    </tr>\n",
       "    <tr>\n",
       "      <th>Schitt's Creek</th>\n",
       "      <td>407</td>\n",
       "    </tr>\n",
       "    <tr>\n",
       "      <th>Breaking Bad</th>\n",
       "      <td>335</td>\n",
       "    </tr>\n",
       "    <tr>\n",
       "      <th>Parks and Recreation</th>\n",
       "      <td>328</td>\n",
       "    </tr>\n",
       "    <tr>\n",
       "      <th>Gilmore Girls</th>\n",
       "      <td>311</td>\n",
       "    </tr>\n",
       "    <tr>\n",
       "      <th>How I Met Your Mother</th>\n",
       "      <td>274</td>\n",
       "    </tr>\n",
       "    <tr>\n",
       "      <th>Archer</th>\n",
       "      <td>269</td>\n",
       "    </tr>\n",
       "  </tbody>\n",
       "</table>\n",
       "</div>"
      ],
      "text/plain": [
       "                         Clicks\n",
       "That '70s Show             1294\n",
       "The Office (U.S.)           796\n",
       "Friends                     468\n",
       "Orange Is the New Black     433\n",
       "Schitt's Creek              407\n",
       "Breaking Bad                335\n",
       "Parks and Recreation        328\n",
       "Gilmore Girls               311\n",
       "How I Met Your Mother       274\n",
       "Archer                      269"
      ]
     },
     "execution_count": 24,
     "metadata": {},
     "output_type": "execute_result"
    }
   ],
   "source": [
    "#New df on the Shows I clicked on the most \n",
    "value_counts_clicked = netflix['Title'].value_counts()\n",
    "top_clicked = pd.DataFrame(value_counts_clicked)\n",
    "top_clicked.columns = ['Clicks']\n",
    "top_clicked['Clicks'] = top_clicked['Clicks'].astype(str).astype(int)\n",
    "top_ten_clicked = top_clicked.head(10)\n",
    "top_ten_clicked"
   ]
  },
  {
   "cell_type": "code",
   "execution_count": 25,
   "id": "d2b863f7",
   "metadata": {},
   "outputs": [
    {
     "data": {
      "image/png": "[encoded data removed]",
      "text/plain": [
       "<Figure size 640x480 with 1 Axes>"
      ]
     },
     "metadata": {},
     "output_type": "display_data"
    }
   ],
   "source": [
    "#Making a bar graph from the df top_ten_clicked\n",
    "sns.set_theme(style=\"whitegrid\")\n",
    "top10click = sns.barplot(x = top_ten_clicked.Clicks, y = top_ten_clicked.index , data=top_ten_clicked, palette='coolwarm')\n",
    "top10click.set(title = 'Top 10 Clicked Netflix Shows', ylabel = \"Shows\");\n",
    "\n"
   ]
  },
  {
   "cell_type": "markdown",
   "id": "1ac367e8",
   "metadata": {},
   "source": [
    "I am kind of surprised that **That 70's Show** is my mosted watched. I usually do not like rewatching shows but somehow, **That 70's Show** surpassed them all by quite a lot more than i expected. "
   ]
  },
  {
   "cell_type": "markdown",
   "id": "a432ef67",
   "metadata": {},
   "source": [
    "### What are the top 10 devices used to watched Netflix?"
   ]
  },
  {
   "cell_type": "code",
   "execution_count": 26,
   "id": "802bcf60",
   "metadata": {
    "scrolled": true
   },
   "outputs": [
    {
     "data": {
      "text/html": [
       "<div>\n",
       "<style scoped>\n",
       "    .dataframe tbody tr th:only-of-type {\n",
       "        vertical-align: middle;\n",
       "    }\n",
       "\n",
       "    .dataframe tbody tr th {\n",
       "        vertical-align: top;\n",
       "    }\n",
       "\n",
       "    .dataframe thead th {\n",
       "        text-align: right;\n",
       "    }\n",
       "</style>\n",
       "<table border=\"1\" class=\"dataframe\">\n",
       "  <thead>\n",
       "    <tr style=\"text-align: right;\">\n",
       "      <th></th>\n",
       "      <th>Used</th>\n",
       "    </tr>\n",
       "  </thead>\n",
       "  <tbody>\n",
       "    <tr>\n",
       "      <th>Chrome PC (Cadmium)</th>\n",
       "      <td>3143</td>\n",
       "    </tr>\n",
       "    <tr>\n",
       "      <th>Roku 3 Set Top Box</th>\n",
       "      <td>2927</td>\n",
       "    </tr>\n",
       "    <tr>\n",
       "      <th>Apple iPhone 6</th>\n",
       "      <td>2172</td>\n",
       "    </tr>\n",
       "    <tr>\n",
       "      <th>Apple iPhone X (CDMA)</th>\n",
       "      <td>1072</td>\n",
       "    </tr>\n",
       "    <tr>\n",
       "      <th>Apple iPhone 13 Pro Max</th>\n",
       "      <td>539</td>\n",
       "    </tr>\n",
       "    <tr>\n",
       "      <th>PC</th>\n",
       "      <td>423</td>\n",
       "    </tr>\n",
       "    <tr>\n",
       "      <th>Apple iPhone 5 with CDMA</th>\n",
       "      <td>371</td>\n",
       "    </tr>\n",
       "    <tr>\n",
       "      <th>Apple TV 3 (revised)</th>\n",
       "      <td>353</td>\n",
       "    </tr>\n",
       "    <tr>\n",
       "      <th>Samsung 2013 MStar X12 Smart TV</th>\n",
       "      <td>192</td>\n",
       "    </tr>\n",
       "    <tr>\n",
       "      <th>Edge (Cadmium)</th>\n",
       "      <td>52</td>\n",
       "    </tr>\n",
       "  </tbody>\n",
       "</table>\n",
       "</div>"
      ],
      "text/plain": [
       "                                 Used\n",
       "Chrome PC (Cadmium)              3143\n",
       "Roku 3 Set Top Box               2927\n",
       "Apple iPhone 6                   2172\n",
       "Apple iPhone X (CDMA)            1072\n",
       "Apple iPhone 13 Pro Max           539\n",
       "PC                                423\n",
       "Apple iPhone 5 with CDMA          371\n",
       "Apple TV 3 (revised)              353\n",
       "Samsung 2013 MStar X12 Smart TV   192\n",
       "Edge (Cadmium)                     52"
      ]
     },
     "execution_count": 26,
     "metadata": {},
     "output_type": "execute_result"
    }
   ],
   "source": [
    "#Making devices its own df\n",
    "devices = netflix['Device Type'].value_counts()\n",
    "top_devices = pd.DataFrame(devices)\n",
    "top_devices.columns = ['Used']\n",
    "top_devices['Used'] = top_devices['Used'].astype(str).astype(int)\n",
    "top_ten_devices = top_devices.head(10)\n",
    "top_ten_devices"
   ]
  },
  {
   "cell_type": "code",
   "execution_count": 29,
   "id": "c698ac4e",
   "metadata": {
    "scrolled": false
   },
   "outputs": [
    {
     "data": {
      "image/png": "[encoded data removed]",
      "text/plain": [
       "<Figure size 640x480 with 1 Axes>"
      ]
     },
     "metadata": {},
     "output_type": "display_data"
    }
   ],
   "source": [
    "#Graphing the devices\n",
    "sns.set_theme(style=\"whitegrid\")\n",
    "top10device = sns.barplot(x = top_ten_devices.Used, y = top_ten_devices.index , data=top_ten_devices, palette='coolwarm')\n",
    "top10device.set(title = 'Top 10 Used Devices', ylabel = \"Device\");\n"
   ]
  },
  {
   "cell_type": "markdown",
   "id": "3216e957",
   "metadata": {},
   "source": [
    "I don't own a **Roku3**. My household is an **Amazon Firestick** home via my mom. I guess i shared my account with someone and they used my account to the fullest. "
   ]
  },
  {
   "cell_type": "markdown",
   "id": "7c315955",
   "metadata": {},
   "source": [
    "### What countries I use netflix more?"
   ]
  },
  {
   "cell_type": "code",
   "execution_count": 27,
   "id": "fccda7bf",
   "metadata": {
    "scrolled": true
   },
   "outputs": [
    {
     "data": {
      "text/plain": [
       "US (United States)    11237\n",
       "AU (Australia)           50\n",
       "Name: Country, dtype: int64"
      ]
     },
     "execution_count": 27,
     "metadata": {},
     "output_type": "execute_result"
    }
   ],
   "source": [
    "netflix['Country'].value_counts()"
   ]
  },
  {
   "cell_type": "markdown",
   "id": "df0de48e",
   "metadata": {},
   "source": [
    "I should travel more..."
   ]
  },
  {
   "cell_type": "markdown",
   "id": "a4847606",
   "metadata": {},
   "source": [
    "# <ins>Conclusion</ins>"
   ]
  },
  {
   "cell_type": "markdown",
   "id": "0b8d6dd2",
   "metadata": {},
   "source": [
    "Some ways that I could improve this project:   \n",
    "    <ol>\n",
    "      <li>Importing another dataset that includes genres of each show so i can find what genre i like the most.</li>\n",
    "      <li>I could have seperate the movies with the shows to calculate that data</li>\n",
    "      <li>Recording my life to compare my habits with netflix to show how each correlate to each other. </li>\n",
    "      <li>ETC.</li>\n",
    "    </ol>\n",
    "\n",
    "Overall, this project has allowed me to gain insights into my own viewing habits and prefereneces, and gave me an oppurtunity to practice my data analysis skills such as data cleaning and visualization. It was a fun and insightful project that helped me better understand the data behind one of my favorite streaming platform. "
   ]
  },
  {
   "cell_type": "code",
   "execution_count": null,
   "id": "5bf5023b",
   "metadata": {},
   "outputs": [],
   "source": []
  }
 ],
 "metadata": {
  "kernelspec": {
   "display_name": "Python 3 (ipykernel)",
   "language": "python",
   "name": "python3"
  },
  "language_info": {
   "codemirror_mode": {
    "name": "ipython",
    "version": 3
   },
   "file_extension": ".py",
   "mimetype": "text/x-python",
   "name": "python",
   "nbconvert_exporter": "python",
   "pygments_lexer": "ipython3",
   "version": "3.9.13"
  }
 },
 "nbformat": 4,
 "nbformat_minor": 5
}
